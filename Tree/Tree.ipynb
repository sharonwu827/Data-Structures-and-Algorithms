{
 "cells": [
  {
   "cell_type": "markdown",
   "id": "f3455c63",
   "metadata": {},
   "source": [
    "# Constructor"
   ]
  },
  {
   "cell_type": "code",
   "execution_count": 2,
   "id": "6f6ff209",
   "metadata": {},
   "outputs": [],
   "source": [
    "class Node:\n",
    "    def __init__(self,value):\n",
    "        self.val = value\n",
    "        self.left = None\n",
    "        self.right = None"
   ]
  },
  {
   "cell_type": "markdown",
   "id": "155894d0",
   "metadata": {},
   "source": [
    "# Insert"
   ]
  },
  {
   "cell_type": "markdown",
   "id": "c5a6eac4",
   "metadata": {},
   "source": [
    "# Traversal"
   ]
  },
  {
   "cell_type": "markdown",
   "id": "89bb2b89",
   "metadata": {},
   "source": [
    "## 1. Breadth First "
   ]
  },
  {
   "cell_type": "code",
   "execution_count": 3,
   "id": "35f010c8",
   "metadata": {},
   "outputs": [],
   "source": [
    "def BFS(self):\n",
    "    cur_node = self.root\n",
    "    queue = []\n",
    "    res = []\n",
    "    # append entire node, the value and the left and the right\n",
    "    queue.append(cur_node)\n",
    "    while len(queue) > 0:\n",
    "        cur_node = queue.pop(0)\n",
    "        res.append(cur_node.value)\n",
    "        if cur_node.left is not None:\n",
    "            queue.append(cur_node.left)\n",
    "        if cur_node.right is not None:\n",
    "            queue.append(cur_node.right)\n",
    "    return res"
   ]
  },
  {
   "cell_type": "code",
   "execution_count": null,
   "id": "d3e77fbb",
   "metadata": {},
   "outputs": [],
   "source": []
  },
  {
   "cell_type": "code",
   "execution_count": null,
   "id": "9c4029c7",
   "metadata": {},
   "outputs": [],
   "source": []
  }
 ],
 "metadata": {
  "kernelspec": {
   "display_name": "Python 3",
   "language": "python",
   "name": "python3"
  },
  "language_info": {
   "codemirror_mode": {
    "name": "ipython",
    "version": 3
   },
   "file_extension": ".py",
   "mimetype": "text/x-python",
   "name": "python",
   "nbconvert_exporter": "python",
   "pygments_lexer": "ipython3",
   "version": "3.8.8"
  }
 },
 "nbformat": 4,
 "nbformat_minor": 5
}
